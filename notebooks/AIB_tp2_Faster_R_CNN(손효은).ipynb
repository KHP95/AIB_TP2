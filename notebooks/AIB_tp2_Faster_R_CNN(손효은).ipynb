{
 "cells": [
  {
   "cell_type": "markdown",
   "metadata": {
    "colab_type": "text",
    "id": "view-in-github"
   },
   "source": [
    "<a href=\"https://colab.research.google.com/github/hyonnys/tp2/blob/main/AIB_tp2_Faster_R_CNN.ipynb\" target=\"_parent\"><img src=\"https://colab.research.google.com/assets/colab-badge.svg\" alt=\"Open In Colab\"/></a>"
   ]
  },
  {
   "cell_type": "code",
   "execution_count": null,
   "metadata": {
    "colab": {
     "base_uri": "https://localhost:8080/"
    },
    "id": "Zh15DBAVGs48",
    "outputId": "1ca2be0d-bc6c-4170-d34a-4e712d696cb4"
   },
   "outputs": [],
   "source": [
    "from google.colab import drive\n",
    "drive.mount('/content/drive')"
   ]
  },
  {
   "cell_type": "code",
   "execution_count": null,
   "metadata": {
    "colab": {
     "base_uri": "https://localhost:8080/"
    },
    "id": "9lqMOx6DBcKl",
    "outputId": "56732cd4-bec4-41ef-f307-c789a35c2dc0"
   },
   "outputs": [],
   "source": [
    "import torch, torchvision\n",
    "print(torch.__version__, torch.cuda.is_available())"
   ]
  },
  {
   "cell_type": "code",
   "execution_count": null,
   "metadata": {
    "colab": {
     "base_uri": "https://localhost:8080/"
    },
    "id": "QCVgRQ6qKI9v",
    "outputId": "390b7629-5e5d-434f-c53d-8aea831119b5"
   },
   "outputs": [],
   "source": [
    "allocated_memory = torch.cuda.memory_allocated() / (1024 * 1024)  # MB\n",
    "max_allocated_memory = torch.cuda.max_memory_allocated() / (1024 * 1024)  # MB\n",
    "\n",
    "print(f\"Allocated Memory: {allocated_memory:.2f} MB\")\n",
    "print(f\"Max Allocated Memory: {max_allocated_memory:.2f} MB\")"
   ]
  },
  {
   "cell_type": "code",
   "execution_count": null,
   "metadata": {
    "colab": {
     "base_uri": "https://localhost:8080/"
    },
    "id": "bce1uNHjKP0K",
    "outputId": "cfe2c85d-c3a0-42b8-fc87-6a83c83e202a"
   },
   "outputs": [],
   "source": [
    "cached_memory = torch.cuda.memory_cached() / (1024 * 1024)  # MB\n",
    "max_cached_memory = torch.cuda.max_memory_cached() / (1024 * 1024)  # MB\n",
    "\n",
    "print(f\"Cached Memory: {cached_memory:.2f} MB\")\n",
    "print(f\"Max Cached Memory: {max_cached_memory:.2f} MB\")"
   ]
  },
  {
   "cell_type": "code",
   "execution_count": null,
   "metadata": {
    "colab": {
     "base_uri": "https://localhost:8080/"
    },
    "id": "64tgiNSTJhrJ",
    "outputId": "a25aefeb-3068-4bfa-babb-5859d98d4031"
   },
   "outputs": [],
   "source": [
    "!nvidia-smi # A100 GPU"
   ]
  },
  {
   "cell_type": "markdown",
   "metadata": {
    "id": "aEtOCUrzCFLD"
   },
   "source": [
    "# 0.Installation"
   ]
  },
  {
   "cell_type": "markdown",
   "metadata": {
    "id": "-Ka_0cKCAuTJ"
   },
   "source": [
    "## 0.1 Installing `open-mmlab` framework\n",
    "\n",
    "* `mmcv`\n",
    "* `mmengine`\n",
    "* `mmdetection`"
   ]
  },
  {
   "cell_type": "code",
   "execution_count": null,
   "metadata": {
    "id": "7kiaJRiZAB8b"
   },
   "outputs": [],
   "source": [
    "!pip3 install openmim\n",
    "!mim install mmengine\n",
    "!mim install \"mmcv>=2.0.0,<2.1.0\""
   ]
  },
  {
   "cell_type": "code",
   "execution_count": null,
   "metadata": {
    "colab": {
     "base_uri": "https://localhost:8080/"
    },
    "id": "y5sJRCbKLNA_",
    "outputId": "818b53fb-f346-40d4-bb7c-09425cfd868e"
   },
   "outputs": [],
   "source": [
    "!pwd"
   ]
  },
  {
   "cell_type": "code",
   "execution_count": null,
   "metadata": {
    "colab": {
     "base_uri": "https://localhost:8080/"
    },
    "id": "lkPm4kNsKqZO",
    "outputId": "bfecccd6-0adc-4e89-c444-05937194f67c"
   },
   "outputs": [],
   "source": [
    "# Unzip the mmdetection saved with downloaded checkpoint file\n",
    "import zipfile\n",
    "\n",
    "ANNO_ZIP = '/content/drive/MyDrive/AIB_tp2/model/mmdetection.zip'\n",
    "\n",
    "# OUTPUT_DIR = '/content/data/coco'\n",
    "OUTPUT_DIR = '.'\n",
    "\n",
    "with zipfile.ZipFile(ANNO_ZIP, 'r') as zip_ref:\n",
    "  zip_ref.extractall(OUTPUT_DIR)\n",
    "\n",
    "print(\"Successfully extracted the zip file.\")\n",
    "\n",
    "!mv /content/content/mmdetection ../\n",
    "%rm -rf /content/content"
   ]
  },
  {
   "cell_type": "code",
   "execution_count": null,
   "metadata": {
    "id": "cPDZO4nuPp9O"
   },
   "outputs": [],
   "source": [
    "%cd /content/mmdetection\n",
    "!pip install -e ."
   ]
  },
  {
   "cell_type": "code",
   "execution_count": null,
   "metadata": {
    "colab": {
     "base_uri": "https://localhost:8080/"
    },
    "id": "RW546qsxAnrf",
    "outputId": "4f17e135-0b72-4263-b4e2-7a06e46c577a"
   },
   "outputs": [],
   "source": [
    "# Verify the installation\n",
    "import mmdet\n",
    "print(mmdet.__version__)"
   ]
  },
  {
   "cell_type": "code",
   "execution_count": null,
   "metadata": {
    "colab": {
     "base_uri": "https://localhost:8080/"
    },
    "id": "C5DCohpeBps2",
    "outputId": "9f3f7fc4-fa50-4af9-e0f2-d5c731a8a3c2"
   },
   "outputs": [],
   "source": [
    "# Verify the installation\n",
    "from mmcv.ops import get_compiling_cuda_version, get_compiler_version\n",
    "print(get_compiling_cuda_version())\n",
    "print(get_compiler_version())"
   ]
  },
  {
   "cell_type": "code",
   "execution_count": null,
   "metadata": {
    "colab": {
     "base_uri": "https://localhost:8080/"
    },
    "id": "3tWMFAnIEkaJ",
    "outputId": "af35d81c-5719-42ad-c6ef-fc62dd3835c8"
   },
   "outputs": [],
   "source": [
    "# Final check on Installation\n",
    "from mmengine.utils import get_git_hash\n",
    "from mmengine.utils.dl_utils import collect_env as collect_base_env\n",
    "\n",
    "import mmdet\n",
    "\n",
    "\n",
    "def collect_env():\n",
    "    \"\"\"Collect the information of the running environments.\"\"\"\n",
    "    env_info = collect_base_env()\n",
    "    env_info['MMDetection'] = f'{mmdet.__version__}+{get_git_hash()[:7]}'\n",
    "    return env_info\n",
    "\n",
    "\n",
    "if __name__ == '__main__':\n",
    "    for name, val in collect_env().items():\n",
    "        print(f'{name}: {val}')"
   ]
  },
  {
   "cell_type": "markdown",
   "metadata": {
    "id": "sQXkh_woFX8U"
   },
   "source": [
    "# 1.Preparing the data\n",
    "\n",
    "* Make `data/coco` directory\n",
    "* Download the zip files of data\n",
    "* Unzip them\n",
    "* Remove the zip files"
   ]
  },
  {
   "cell_type": "markdown",
   "metadata": {
    "id": "pWopOJ06FfTD"
   },
   "source": [
    "## 1.1 Create the data directory"
   ]
  },
  {
   "cell_type": "code",
   "execution_count": null,
   "metadata": {
    "colab": {
     "base_uri": "https://localhost:8080/"
    },
    "id": "fEk-EBz5FfPq",
    "outputId": "45d2de91-b795-4080-ffa3-edf720b1dac7"
   },
   "outputs": [],
   "source": [
    "!pwd\n",
    "%cd /content"
   ]
  },
  {
   "cell_type": "code",
   "execution_count": null,
   "metadata": {
    "colab": {
     "base_uri": "https://localhost:8080/"
    },
    "id": "iwgcIPtzFeuB",
    "outputId": "1e6e8b37-7fef-416b-bbe0-65a668380bdd"
   },
   "outputs": [],
   "source": [
    "# !mkdir -pv data/coco\n",
    "!mkdir -pv data/coco"
   ]
  },
  {
   "cell_type": "markdown",
   "metadata": {
    "id": "k2Ru8DjXGiFC"
   },
   "source": [
    "## 1.2 Download the data from GoogleDrive"
   ]
  },
  {
   "cell_type": "code",
   "execution_count": null,
   "metadata": {
    "colab": {
     "base_uri": "https://localhost:8080/"
    },
    "id": "njgmmVB0Gs2j",
    "outputId": "1b5da8d0-5763-4399-a97d-11dd30efed83"
   },
   "outputs": [],
   "source": [
    "# Download the annotations.json(COCO file)-labels\n",
    "import zipfile\n",
    "\n",
    "ANNO_ZIP = '/content/drive/MyDrive/AIB_tp2/data/annotations.zip'\n",
    "\n",
    "# OUTPUT_DIR = '/content/data/coco'\n",
    "OUTPUT_DIR = '/content/data/coco'\n",
    "\n",
    "with zipfile.ZipFile(ANNO_ZIP, 'r') as zip_ref:\n",
    "  zip_ref.extractall(OUTPUT_DIR)\n",
    "\n",
    "print(\"Successfully extracted the zip file.\")"
   ]
  },
  {
   "cell_type": "code",
   "execution_count": null,
   "metadata": {
    "id": "JftjHBNsGszs"
   },
   "outputs": [],
   "source": [
    "# Download the raw dataset\n",
    "DATA_ZIP = '/content/drive/MyDrive/AIB_tp2/data/dataset.zip'\n",
    "\n",
    "OUTPUT_DIR = '/content/data/coco'\n",
    "\n",
    "with zipfile.ZipFile(DATA_ZIP, 'r') as zip_ref:\n",
    "  zip_ref.extractall(OUTPUT_DIR)"
   ]
  },
  {
   "cell_type": "markdown",
   "metadata": {
    "id": "W8nn0NlCJmb5"
   },
   "source": [
    "# 2.Modeling with Faster R-CNN\n",
    "\n",
    "* Not Pre-trained Model : `X-101-64x4d-FPN_1x`\n",
    "* Pre-trained Model : `R-101-FPN_3x`\n",
    "* Modeling Environment : `Colab Pro - GPU V100`\n",
    "\n",
    "※ [Official Github Page](https://github.com/open-mmlab/mmdetection/tree/main/configs/faster_rcnn)\n",
    "\n",
    "※ [Offical MMDetection Document](https://mmdetection.readthedocs.io/en/latest/user_guides/index.html)\n",
    "\n",
    "※ Offical Documentation on [Train predefined models on standard datasets](https://mmdetection.readthedocs.io/en/latest/user_guides/train.html)\n",
    "\n"
   ]
  },
  {
   "cell_type": "markdown",
   "metadata": {
    "id": "2zRE1Dg6Jym2"
   },
   "source": [
    "## 2.1 Download the model"
   ]
  },
  {
   "cell_type": "code",
   "execution_count": null,
   "metadata": {
    "id": "mE87Ng6v5hcp"
   },
   "outputs": [],
   "source": [
    "# Download the faster-rcnn model(checkpoint file \".pth\") - Not Pre-trained Model\n",
    "!pwd\n",
    "%cd /content/mmdetection/\n",
    "!mkdir checkpoints\n",
    "\n",
    "!wget -c https://download.openmmlab.com/mmdetection/v2.0/faster_rcnn/faster_rcnn_x101_64x4d_fpn_1x_coco/faster_rcnn_x101_64x4d_fpn_1x_coco_20200204-833ee192.pth\\\n",
    "-O checkpoints/faster_rcnn_x101_64x4d_fpn_1x_coco_20230819.pth"
   ]
  },
  {
   "cell_type": "markdown",
   "metadata": {
    "id": "Au8qbcjdJ1Sn"
   },
   "source": [
    "## 2.2 Train a model\n",
    "\n",
    "- Pre-trained Model of `Faster_rcnn`"
   ]
  },
  {
   "cell_type": "code",
   "execution_count": null,
   "metadata": {
    "colab": {
     "base_uri": "https://localhost:8080/"
    },
    "id": "6w4KFzAooetE",
    "outputId": "4616cda6-9071-4cc9-a5cb-fef181203aec"
   },
   "outputs": [],
   "source": [
    "# Download a model - Pretrained Model weights\n",
    "!pwd\n",
    "%cd /content/mmdetection/\n",
    "!mkdir checkpoints\n",
    "\n",
    "!wget -c https://download.openmmlab.com/mmdetection/v2.0/faster_rcnn/faster_rcnn_r101_fpn_mstrain_3x_coco/faster_rcnn_r101_fpn_mstrain_3x_coco_20210524_110822-4d4d2ca8.pth\\\n",
    "-O checkpoints/faster_rcnn_r101_fpn_3x_coco_20230820.pth"
   ]
  },
  {
   "cell_type": "code",
   "execution_count": null,
   "metadata": {
    "id": "5HugLdPkF0ZA"
   },
   "outputs": [],
   "source": [
    "!zip -r /content/drive/MyDrive/AIB_tp2/model/mmdetection.zip ./mmdetection"
   ]
  },
  {
   "cell_type": "code",
   "execution_count": null,
   "metadata": {
    "colab": {
     "base_uri": "https://localhost:8080/"
    },
    "id": "5_AxhsQIF_pi",
    "outputId": "1f492f47-fcd0-40f9-de55-ee4f9133821e"
   },
   "outputs": [],
   "source": [
    "!pwd\n",
    "%cd /content/mmdetection/"
   ]
  },
  {
   "cell_type": "code",
   "execution_count": null,
   "metadata": {
    "id": "M4raO3RXxNz2"
   },
   "outputs": [],
   "source": [
    "# Create a config file\n",
    "!cp configs/faster_rcnn/faster-rcnn_r101_fpn_ms-3x_coco.py configs/faster_rcnn/custom_faster-rcnn_r101_fpn_3x_coco.py"
   ]
  },
  {
   "cell_type": "code",
   "execution_count": null,
   "metadata": {
    "id": "FmIFmM_j6Eat"
   },
   "outputs": [],
   "source": [
    "# Modify a config file\n",
    "config_faster_rcnn_2=\"\"\"\n",
    "_base_='faster-rcnn_r101_fpn_ms-3x_coco.py'\n",
    "\n",
    "# Modify num_classes\n",
    "model = dict(\n",
    "    roi_head=dict(\n",
    "        bbox_head=dict(num_classes=35)))\n",
    "\n",
    "# Modify dataset related settings\n",
    "data_root = '/content/data/coco/'\n",
    "metainfo = {\n",
    "    'classes': ('인도', '횡단보도', '자전거 도로','교차로', '중앙 차선','안전지대',\\\n",
    "                 '정지선','정지선 위반 판별구역','보행자 신호등 녹색','보행자 신호등 적색',\\\n",
    "                 '차량 신호등 녹색', '차량 신호등 적색',\\\n",
    "                 '오토바이', '오토바이_보행자도로 통행위반', '오토바이_안전모 미착용',\\\n",
    "                 '오토바이_무단횡단','오토바이_신호위반','오토바이_정지선위반',\\\n",
    "                 '오토바이_횡단보도 주행위반','자전거','자전거 캐리어',\\\n",
    "                 '자전거_보행자도로 통행위반', '자전거_안전모 미착용', '자전거_무단횡단',\\\n",
    "                 '자전거_신호위반', '자전거_정지선위반', '자전거_횡단보도 주행위반',\\\n",
    "                 '킥보드', '킥보드 캐리어', '킥보드_보행자도로 통행위반',\\\n",
    "                 '킥보드_안전모 미착용', '킥보드_무단횡단', '킥보드_신호위반',\\\n",
    "                 '킥보드_횡단보도 주행위반', '킥보드_동승자 탑승위반'),\n",
    "    'palette': [\n",
    "        (255, 0, 0), (0, 255, 0), (0, 0, 255), (255, 255, 0), (255, 0, 255),\\\n",
    "        (0, 255, 255), (255, 128, 0), (128, 0, 255), (0, 255, 128), (255, 128, 128),\\\n",
    "        (128, 255, 128), (128, 128, 255), (128, 128, 0), (128, 0, 128), (0, 128, 128),\\\n",
    "        (192, 64, 0), (192, 192, 64), (64, 192, 192), (64, 64, 192), (192, 64, 192),\\\n",
    "        (64, 192, 64), (255, 192, 128), (128, 255, 192), (128, 192, 255), (51, 102, 255),\\\n",
    "         (51, 204, 204), (153, 204, 0), (255, 204, 0), (255, 153, 0), (255, 102, 0),\\\n",
    "         (204, 255, 255), (255, 255, 153), (153, 204, 255), (255, 153, 204), (204, 153, 255),\\\n",
    "         (255, 204, 153), (51, 153, 102)\n",
    "    ]\n",
    "}\n",
    "train_dataloader = dict(\n",
    "    batch_size=16,\n",
    "    num_workers=4,\n",
    "    dataset=dict(\n",
    "      dataset=dict(\n",
    "        data_root=data_root,\n",
    "        metainfo=metainfo,\n",
    "        ann_file='annotations/train_annotations.json',\n",
    "        data_prefix=dict(img='train/'))))\n",
    "val_dataloader = dict(\n",
    "    batch_size=16,\n",
    "    num_workers=4,\n",
    "    dataset=dict(\n",
    "        data_root=data_root,\n",
    "        metainfo=metainfo,\n",
    "        ann_file='annotations/val_annotations.json',\n",
    "        data_prefix=dict(img='val/')))\n",
    "test_dataloader = dict(\n",
    "    batch_size=16,\n",
    "    num_workers=4,\n",
    "    dataset=dict(\n",
    "        data_root=data_root,\n",
    "        metainfo=metainfo,\n",
    "        ann_file='annotations/test_annotations.json',\n",
    "        data_prefix=dict(img='test/')))\n",
    "\n",
    "# Modify metric related settings\n",
    "val_evaluator = dict(ann_file=data_root + 'annotations/val_annotations.json',\n",
    "outfile_prefix='./work_dirs/coco_frcnn/val')\n",
    "test_evaluator = dict(ann_file=data_root + 'annotations/test_annotations.json',\n",
    "outfile_prefix='./work_dirs/coco_frcnn/test')\n",
    "\n",
    "# Modify epoch\n",
    "train_cfg=dict(max_epochs=5)\n",
    "\n",
    "# Evaluate the model (every epoch ->)every 12 epochs\n",
    "# train_cfg=dict(val_interval=12)\n",
    "\n",
    "# Auto_LR_Scaler On\n",
    "auto_scale_lr = dict(enable=True)\n",
    "\n",
    "# Use the pre-trained model\n",
    "load_from = '/content/mmdetection/checkpoints/faster_rcnn_r101_fpn_3x_coco_20230820.pth'\n",
    "\"\"\"\n",
    "\n",
    "with open('./configs/faster_rcnn/custom_faster-rcnn_r101_fpn_3x_coco.py', 'w') as f:\n",
    "  f.write(config_faster_rcnn_2)"
   ]
  },
  {
   "cell_type": "code",
   "execution_count": null,
   "metadata": {
    "colab": {
     "base_uri": "https://localhost:8080/"
    },
    "id": "umXrDrgL6A0x",
    "outputId": "e8e4f2bf-1d41-4763-e144-c7f9084565bd"
   },
   "outputs": [],
   "source": [
    "# Train a mdoel\n",
    "# %%time\n",
    "!python tools/train.py configs/faster_rcnn/custom_faster-rcnn_r101_fpn_3x_coco.py"
   ]
  },
  {
   "cell_type": "code",
   "execution_count": null,
   "metadata": {
    "id": "W-QrKh4UH2pb"
   },
   "outputs": [],
   "source": [
    "# Save the checkpoint file (.pth) into Google Drive\n",
    "%cd /content/mmdetection/work_dirs/\n",
    "\n",
    "!zip -r /content/drive/MyDrive/AIB_tp2/model/faster_rcnn.zip /content/mmdetection/work_dirs"
   ]
  },
  {
   "cell_type": "code",
   "execution_count": null,
   "metadata": {
    "id": "jG_a5HcxlJwQ"
   },
   "outputs": [],
   "source": [
    "%cd /content/mmdetection/\n",
    "\n",
    "!zip -r /content/drive/MyDrive/AIB_tp2/model/mmdetection.zip /content/mmdetection/"
   ]
  },
  {
   "cell_type": "markdown",
   "metadata": {
    "id": "yMkHOCWhKNTM"
   },
   "source": [
    "## 2.3 Inference and Evaluation"
   ]
  },
  {
   "cell_type": "code",
   "execution_count": null,
   "metadata": {
    "colab": {
     "base_uri": "https://localhost:8080/"
    },
    "id": "r0egA42KdNK5",
    "outputId": "a84bb528-2e3a-4238-bf98-c6894388e550"
   },
   "outputs": [],
   "source": [
    "# Inference with test dataset and save the result\n",
    "%cd /content/mmdetection/\n",
    "\n",
    "!python tools/test.py configs/faster_rcnn/custom_faster-rcnn_r101_fpn_3x_coco.py work_dirs/custom_faster-rcnn_r101_fpn_3x_coco/epoch_5.pth\\\n",
    "--out frcnn_results.pkl\\\n",
    "--show-dir frcnn_r101_fpn_3x_results\\\n",
    "--work-dir frcnn_r101_fpn_3x_results_metrics\n",
    "#checkpoint file work_dirs/ --show-dir faster-rcnn_r101_fpn_3x_results"
   ]
  }
 ],
 "metadata": {
  "accelerator": "GPU",
  "colab": {
   "gpuType": "V100",
   "include_colab_link": true,
   "machine_shape": "hm",
   "provenance": [],
   "toc_visible": true
  },
  "kernelspec": {
   "display_name": "Python 3",
   "name": "python3"
  },
  "language_info": {
   "name": "python"
  }
 },
 "nbformat": 4,
 "nbformat_minor": 0
}
