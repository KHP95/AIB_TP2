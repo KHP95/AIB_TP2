{
 "cells": [
  {
   "cell_type": "markdown",
   "metadata": {
    "colab_type": "text",
    "id": "view-in-github"
   },
   "source": [
    "<a href=\"https://colab.research.google.com/github/hyonnys/tp2/blob/main/AIB_tp2_RTMDet.ipynb\" target=\"_parent\"><img src=\"https://colab.research.google.com/assets/colab-badge.svg\" alt=\"Open In Colab\"/></a>"
   ]
  },
  {
   "cell_type": "markdown",
   "metadata": {
    "id": "W7DpY7agYVwN"
   },
   "source": [
    "# 0.Setup the environment\n",
    "\n",
    "* Mount Google Drive\n",
    "* Install framework\n",
    "\n",
    "[Official Document for MMYolo Object Detection](https://mmyolo.readthedocs.io/en/latest/get_started/15_minutes_object_detection.html#installation)"
   ]
  },
  {
   "cell_type": "code",
   "execution_count": null,
   "metadata": {
    "colab": {
     "base_uri": "https://localhost:8080/"
    },
    "id": "Zh15DBAVGs48",
    "outputId": "913d8479-0b6c-4c80-95f2-cdde8551eb8d"
   },
   "outputs": [],
   "source": [
    "from google.colab import drive\n",
    "drive.mount('/content/drive')"
   ]
  },
  {
   "cell_type": "code",
   "execution_count": null,
   "metadata": {
    "id": "Ix_R-xQ5YM9-"
   },
   "outputs": [],
   "source": [
    "!pip install openmim\n",
    "!mim install \"mmengine>=0.6.0\"\n",
    "!mim install \"mmcv>=2.0.0rc4,<2.1.0\"\n",
    "!mim install \"mmdet>=3.0.0,<4.0.0\""
   ]
  },
  {
   "cell_type": "code",
   "execution_count": null,
   "metadata": {
    "id": "7UcbZPnKbLQb"
   },
   "outputs": [],
   "source": [
    "!git clone https://github.com/open-mmlab/mmyolo.git\n",
    "%cd mmyolo\n",
    "# Install albumentations\n",
    "!pip install -r requirements/albu.txt\n",
    "# Install MMYOLO\n",
    "!mim install -v -e ."
   ]
  },
  {
   "cell_type": "markdown",
   "metadata": {
    "id": "Bw_Nip-ibY2R"
   },
   "source": [
    "# 1.Download the data"
   ]
  },
  {
   "cell_type": "code",
   "execution_count": null,
   "metadata": {
    "colab": {
     "base_uri": "https://localhost:8080/"
    },
    "id": "fEk-EBz5FfPq",
    "outputId": "ddaeb98b-97cc-4d22-e8e9-c178ec472538"
   },
   "outputs": [],
   "source": [
    "!pwd\n",
    "%cd /content"
   ]
  },
  {
   "cell_type": "code",
   "execution_count": null,
   "metadata": {
    "colab": {
     "base_uri": "https://localhost:8080/"
    },
    "id": "iwgcIPtzFeuB",
    "outputId": "44c5a63a-6c8d-4e50-c393-51e24ea5d623"
   },
   "outputs": [],
   "source": [
    "# !mkdir -pv data/coco\n",
    "!mkdir -pv data/coco"
   ]
  },
  {
   "cell_type": "code",
   "execution_count": null,
   "metadata": {
    "colab": {
     "base_uri": "https://localhost:8080/"
    },
    "id": "njgmmVB0Gs2j",
    "outputId": "81e1dacd-327c-4ec1-ec21-e6cef3743b51"
   },
   "outputs": [],
   "source": [
    "# Download the annotations.json(COCO file)-labels\n",
    "import zipfile\n",
    "\n",
    "ANNO_ZIP = '/content/drive/MyDrive/AIB_tp2/data/annotations.zip'\n",
    "\n",
    "# OUTPUT_DIR = '/content/data/coco'\n",
    "OUTPUT_DIR = '/content/data/coco'\n",
    "\n",
    "with zipfile.ZipFile(ANNO_ZIP, 'r') as zip_ref:\n",
    "  zip_ref.extractall(OUTPUT_DIR)\n",
    "\n",
    "print(\"Successfully extracted the zip file.\")"
   ]
  },
  {
   "cell_type": "code",
   "execution_count": null,
   "metadata": {
    "id": "JftjHBNsGszs"
   },
   "outputs": [],
   "source": [
    "# Download the raw dataset\n",
    "DATA_ZIP = '/content/drive/MyDrive/AIB_tp2/data/dataset.zip'\n",
    "\n",
    "OUTPUT_DIR = '/content/data/coco'\n",
    "\n",
    "with zipfile.ZipFile(DATA_ZIP, 'r') as zip_ref:\n",
    "  zip_ref.extractall(OUTPUT_DIR)"
   ]
  },
  {
   "cell_type": "markdown",
   "metadata": {
    "id": "DJNlWvTi3Car"
   },
   "source": [
    "# 2.Train a model\n",
    "\n",
    "[Official Github page of RTMDet](https://github.com/open-mmlab/mmdetection/tree/main/configs/rtmdet)"
   ]
  },
  {
   "cell_type": "code",
   "execution_count": null,
   "metadata": {
    "colab": {
     "base_uri": "https://localhost:8080/"
    },
    "id": "1CkzhaUk3GKN",
    "outputId": "06efd406-1603-442d-ebe2-ac8d3298aef7"
   },
   "outputs": [],
   "source": [
    "# Download the model\n",
    "!pwd\n",
    "%cd /content/mmyolo/\n",
    "!mkdir checkpoints\n",
    "\n",
    "!wget -c https://download.openmmlab.com/mmrazor/v1/rtmdet_distillation/kd_tiny_rtmdet_s_neck_300e_coco/kd_tiny_rtmdet_s_neck_300e_coco_20230213_104240-e1e4197c.pth\\\n",
    "-O checkpoints/custom_tiny_rtmdet_coco_20230824.pth"
   ]
  },
  {
   "cell_type": "code",
   "execution_count": null,
   "metadata": {
    "id": "8BJuep3b3JYI"
   },
   "outputs": [],
   "source": [
    "# Create a config file\n",
    "!cp configs/rtmdet/distillation/kd_tiny_rtmdet_s_neck_300e_coco.py configs/rtmdet/distillation/custom_tiny_rtmdet_coco.py"
   ]
  },
  {
   "cell_type": "code",
   "execution_count": null,
   "metadata": {
    "colab": {
     "base_uri": "https://localhost:8080/"
    },
    "id": "pPAkKOcR7yiP",
    "outputId": "6609d966-5f44-470c-e2e8-45cb958b7aa0"
   },
   "outputs": [],
   "source": [
    "classes=['오토바이_보행자도로 통행위반', '오토바이_안전모 미착용',\\\n",
    "                 '오토바이_무단횡단','오토바이_신호위반','오토바이_정지선위반',\\\n",
    "                 '오토바이_횡단보도 주행위반','자전거 캐리어',\\\n",
    "                 '자전거_보행자도로 통행위반', '자전거_안전모 미착용', '자전거_무단횡단',\\\n",
    "                 '자전거_신호위반', '자전거_정지선위반', '자전거_횡단보도 주행위반',\\\n",
    "                 '킥보드 캐리어', '킥보드_보행자도로 통행위반',\\\n",
    "                 '킥보드_안전모 미착용', '킥보드_무단횡단', '킥보드_신호위반',\\\n",
    "                 '킥보드_횡단보도 주행위반', '킥보드_동승자 탑승위반']\n",
    "len(classes)"
   ]
  },
  {
   "cell_type": "code",
   "execution_count": null,
   "metadata": {
    "id": "0CFlsvBg3OqR"
   },
   "outputs": [],
   "source": [
    "# Modify a config file\n",
    "config_rtmdet_tiny=\"\"\"\n",
    "_base_='kd_tiny_rtmdet_s_neck_300e_coco.py'\n",
    "\n",
    "# Modify the train/val dataset\n",
    "data_root='/content/data/coco/'\n",
    "metainfo = {\n",
    "    'classes': ('오토바이_보행자도로 통행위반', '오토바이_안전모 미착용',\\\n",
    "                 '오토바이_무단횡단','오토바이_신호위반','오토바이_정지선위반',\\\n",
    "                 '오토바이_횡단보도 주행위반','자전거 캐리어',\\\n",
    "                 '자전거_보행자도로 통행위반', '자전거_안전모 미착용', '자전거_무단횡단',\\\n",
    "                 '자전거_신호위반', '자전거_정지선위반', '자전거_횡단보도 주행위반',\\\n",
    "                 '킥보드 캐리어', '킥보드_보행자도로 통행위반',\\\n",
    "                 '킥보드_안전모 미착용', '킥보드_무단횡단', '킥보드_신호위반',\\\n",
    "                 '킥보드_횡단보도 주행위반', '킥보드_동승자 탑승위반'),\n",
    "    'palette': [\n",
    "        (255, 0, 0), (0, 255, 0), (0, 0, 255), (255, 255, 0), (255, 0, 255),\\\n",
    "        (0, 255, 255), (255, 128, 0), (128, 0, 255), (0, 255, 128), (255, 128, 128),\\\n",
    "        (128, 255, 128), (128, 128, 255), (128, 128, 0), (128, 0, 128), (0, 128, 128),\\\n",
    "        (192, 64, 0), (192, 192, 64), (64, 192, 192), (64, 64, 192), (192, 64, 192),\\\n",
    "        (64, 192, 64), (255, 192, 128), (128, 255, 192), (128, 192, 255)\n",
    "    ]}\n",
    "train_ann_file='annotations/train_annotations.json'\n",
    "train_data_prefix='train/'\n",
    "val_ann_file='annotations/val_annotations.json'\n",
    "val_data_prefix='val/'\n",
    "test_ann_file='annotations/test_annotations.json'\n",
    "test_data_prefix='test/'\n",
    "img_scale=(1920,1080)\n",
    "val_batch_size_per_gpu = 32\n",
    "val_num_workers = 10\n",
    "persistent_workers = True\n",
    "dataset_type = 'YOLOv5CocoDataset'\n",
    "batch_shapes_cfg = dict(\n",
    "    type='BatchShapePolicy',\n",
    "    batch_size=val_batch_size_per_gpu,\n",
    "    img_size=img_scale[0],\n",
    "    size_divisor=32,\n",
    "    extra_pad_ratio=0.5)\n",
    "\n",
    "# setup the metainfo for train/val\n",
    "train_dataloader=dict(\n",
    "  dataset=dict(\n",
    "    metainfo=metainfo\n",
    "  ))\n",
    "val_dataloader=dict(\n",
    "  dataset=dict(\n",
    "    metainfo=metainfo\n",
    "  ))\n",
    "\n",
    "# Modify test dataset\n",
    "test_pipeline = [\n",
    "    dict(type='LoadImageFromFile', backend_args=_base_.backend_args),\n",
    "    dict(type='YOLOv5KeepRatioResize', scale=img_scale),\n",
    "    dict(\n",
    "        type='LetterResize',\n",
    "        scale=img_scale,\n",
    "        allow_scale_up=False,\n",
    "        pad_val=dict(img=114)),\n",
    "    dict(type='LoadAnnotations', with_bbox=True, _scope_='mmdet'),\n",
    "    dict(\n",
    "        type='mmdet.PackDetInputs',\n",
    "        meta_keys=('img_id', 'img_path', 'ori_shape', 'img_shape',\n",
    "                   'scale_factor', 'pad_param'))\n",
    "]\n",
    "test_dataloader=dict(\n",
    "  batch_size=val_batch_size_per_gpu,\n",
    "  num_workers=val_num_workers,\n",
    "  persistent_workers=persistent_workers,\n",
    "  pin_memory=True,\n",
    "  drop_last=False,\n",
    "  sampler=dict(type='DefaultSampler', shuffle=False),\n",
    "  dataset=dict(\n",
    "      type=dataset_type,\n",
    "      data_root=data_root,\n",
    "      metainfo=metainfo,\n",
    "      ann_file=test_ann_file,\n",
    "      data_prefix=dict(img=test_data_prefix),\n",
    "      test_mode=True,\n",
    "      batch_shapes_cfg=batch_shapes_cfg,\n",
    "      pipeline=test_pipeline)\n",
    ")\n",
    "\n",
    "# Modify classes\n",
    "num_classes=20\n",
    "\n",
    "# Modify metric related settings\n",
    "val_evaluator = dict(outfile_prefix='./work_dirs/coco_rtmdet/val')\n",
    "test_evaluator = dict(outfile_prefix='./work_dirs/coco_rtmdet/test')\n",
    "\n",
    "# Use the pre-trained model\n",
    "load_from = '/content/mmyolo/checkpoints/custom_tiny_rtmdet_coco_20230824.pth'\n",
    "\"\"\"\n",
    "\n",
    "with open('./configs/rtmdet/distillation/custom_tiny_rtmdet_coco.py', 'w') as f:\n",
    "  f.write(config_rtmdet_tiny)"
   ]
  },
  {
   "cell_type": "code",
   "execution_count": null,
   "metadata": {
    "id": "05rTlZIA3Rqk"
   },
   "outputs": [],
   "source": [
    "# Train a model\n",
    "# %cd /content/mmyolo/\n",
    "\n",
    "!python tools/train.py configs/rtmdet/distillation/custom_tiny_rtmdet_coco.py"
   ]
  },
  {
   "cell_type": "markdown",
   "metadata": {
    "id": "3nHM1aki3Tfh"
   },
   "source": [
    "# 3.Inference"
   ]
  },
  {
   "cell_type": "code",
   "execution_count": null,
   "metadata": {
    "colab": {
     "base_uri": "https://localhost:8080/"
    },
    "id": "lkPm4kNsKqZO",
    "outputId": "d3053dfd-260f-4a0f-d095-196973dfbe3a"
   },
   "outputs": [],
   "source": [
    "# Unzip the mmdetection saved with downloaded checkpoint file\n",
    "import zipfile\n",
    "\n",
    "ANNO_ZIP = '/content/drive/MyDrive/AIB_tp2/model/mmdetection.zip'\n",
    "\n",
    "# OUTPUT_DIR = '/content/data/coco'\n",
    "OUTPUT_DIR = '/content/'\n",
    "\n",
    "with zipfile.ZipFile(ANNO_ZIP, 'r') as zip_ref:\n",
    "  zip_ref.extractall(OUTPUT_DIR)\n",
    "\n",
    "print(\"Successfully extracted the zip file.\")\n",
    "\n",
    "!mv /content/content/mmdetection ../\n",
    "%rm -rf /content/content"
   ]
  },
  {
   "cell_type": "code",
   "execution_count": null,
   "metadata": {
    "colab": {
     "base_uri": "https://localhost:8080/"
    },
    "id": "RW546qsxAnrf",
    "outputId": "e9ae3cc6-f63a-44c8-c6ad-113b57d7f291"
   },
   "outputs": [],
   "source": [
    "# Verify the installation\n",
    "import mmdet\n",
    "print(mmdet.__version__)"
   ]
  },
  {
   "cell_type": "code",
   "execution_count": null,
   "metadata": {
    "id": "cPDZO4nuPp9O"
   },
   "outputs": [],
   "source": [
    "%cd /content/mmdetection\n",
    "!pip install -e ."
   ]
  },
  {
   "cell_type": "code",
   "execution_count": null,
   "metadata": {
    "colab": {
     "base_uri": "https://localhost:8080/"
    },
    "id": "6w4KFzAooetE",
    "outputId": "7952d014-d7c2-4dfa-9eca-19a135ea2200"
   },
   "outputs": [],
   "source": [
    "# Download a model - Pretrained Model weights\n",
    "!pwd\n",
    "%cd /content/mmdetection/\n",
    "!mkdir checkpoints\n",
    "\n",
    "!wget -c https://download.openmmlab.com/mmdetection/v3.0/rtmdet/rtmdet_tiny_8xb32-300e_coco/rtmdet_tiny_8xb32-300e_coco_20220902_112414-78e30dcc.pth\\\n",
    "-O checkpoints/rtmdet_tinay_coco_20230824.pth"
   ]
  },
  {
   "cell_type": "code",
   "execution_count": null,
   "metadata": {
    "colab": {
     "base_uri": "https://localhost:8080/"
    },
    "id": "M4raO3RXxNz2",
    "outputId": "10b7a465-6f69-4c0e-9150-b98fb3cd9322"
   },
   "outputs": [],
   "source": [
    "# Create a config file\n",
    "%cd /content/mmdetection/\n",
    "!cp configs/rtmdet/rtmdet_tiny_8xb32-300e_coco.py configs/rtmdet/custom_rtmdet_tiny_coco.py"
   ]
  },
  {
   "cell_type": "code",
   "execution_count": null,
   "metadata": {
    "id": "FmIFmM_j6Eat"
   },
   "outputs": [],
   "source": [
    "# Modify a config file\n",
    "config_rtmdet=\"\"\"\n",
    "_base_='rtmdet_tiny_8xb32-300e_coco.py'\n",
    "\n",
    "# Modify num_classes\n",
    "model = dict(\n",
    "    bbox_head=dict(num_classes=35))\n",
    "\n",
    "# Modify dataset related settings\n",
    "data_root = '/content/data/coco/'\n",
    "metainfo = {\n",
    "    'classes': ('인도', '횡단보도', '자전거 도로','교차로', '중앙 차선','안전지대',\\\n",
    "                 '정지선','정지선 위반 판별구역','보행자 신호등 녹색','보행자 신호등 적색',\\\n",
    "                 '차량 신호등 녹색', '차량 신호등 적색',\\\n",
    "                 '오토바이', '오토바이_보행자도로 통행위반', '오토바이_안전모 미착용',\\\n",
    "                 '오토바이_무단횡단','오토바이_신호위반','오토바이_정지선위반',\\\n",
    "                 '오토바이_횡단보도 주행위반','자전거','자전거 캐리어',\\\n",
    "                 '자전거_보행자도로 통행위반', '자전거_안전모 미착용', '자전거_무단횡단',\\\n",
    "                 '자전거_신호위반', '자전거_정지선위반', '자전거_횡단보도 주행위반',\\\n",
    "                 '킥보드', '킥보드 캐리어', '킥보드_보행자도로 통행위반',\\\n",
    "                 '킥보드_안전모 미착용', '킥보드_무단횡단', '킥보드_신호위반',\\\n",
    "                 '킥보드_횡단보도 주행위반', '킥보드_동승자 탑승위반'),\n",
    "    'palette': [\n",
    "        (255, 0, 0), (0, 255, 0), (0, 0, 255), (255, 255, 0), (255, 0, 255),\\\n",
    "        (0, 255, 255), (255, 128, 0), (128, 0, 255), (0, 255, 128), (255, 128, 128),\\\n",
    "        (128, 255, 128), (128, 128, 255), (128, 128, 0), (128, 0, 128), (0, 128, 128),\\\n",
    "        (192, 64, 0), (192, 192, 64), (64, 192, 192), (64, 64, 192), (192, 64, 192),\\\n",
    "        (64, 192, 64), (255, 192, 128), (128, 255, 192), (128, 192, 255), (51, 102, 255),\\\n",
    "         (51, 204, 204), (153, 204, 0), (255, 204, 0), (255, 153, 0), (255, 102, 0),\\\n",
    "         (204, 255, 255), (255, 255, 153), (153, 204, 255), (255, 153, 204), (204, 153, 255),\\\n",
    "         (255, 204, 153), (51, 153, 102)\n",
    "    ]\n",
    "}\n",
    "train_dataloader = dict(\n",
    "    batch_size=16,\n",
    "    num_workers=4,\n",
    "    dataset=dict(\n",
    "        data_root=data_root,\n",
    "        metainfo=metainfo,\n",
    "        ann_file='annotations/train_annotations.json',\n",
    "        data_prefix=dict(img='train/')))\n",
    "val_dataloader = dict(\n",
    "    batch_size=16,\n",
    "    num_workers=4,\n",
    "    dataset=dict(\n",
    "        data_root=data_root,\n",
    "        metainfo=metainfo,\n",
    "        ann_file='annotations/val_annotations.json',\n",
    "        data_prefix=dict(img='val/')))\n",
    "test_dataloader = dict(\n",
    "    batch_size=16,\n",
    "    num_workers=4,\n",
    "    dataset=dict(\n",
    "        data_root=data_root,\n",
    "        metainfo=metainfo,\n",
    "        ann_file='annotations/test_annotations.json',\n",
    "        data_prefix=dict(img='test/')))\n",
    "\n",
    "# Modify metric related settings\n",
    "val_evaluator = dict(ann_file=data_root + 'annotations/val_annotations.json',\n",
    "outfile_prefix='./work_dirs/coco_rtmdet/val')\n",
    "test_evaluator = dict(ann_file=data_root + 'annotations/test_annotations.json',\n",
    "outfile_prefix='./work_dirs/coco_rtmdet/test')\n",
    "\n",
    "# Modify epoch\n",
    "train_cfg=dict(max_epochs=10, val_interval=5)\n",
    "\n",
    "# Auto_LR_Scaler On\n",
    "auto_scale_lr = dict(enable=True)\n",
    "\n",
    "# Use the pre-trained model\n",
    "load_from = '/content/mmdetection/checkpoints/rtmdet_tinay_coco_20230824.pth'\n",
    "\"\"\"\n",
    "\n",
    "with open('./configs/rtmdet/custom_rtmdet_tiny_coco.py', 'w') as f:\n",
    "  f.write(config_rtmdet)"
   ]
  },
  {
   "cell_type": "code",
   "execution_count": null,
   "metadata": {
    "colab": {
     "base_uri": "https://localhost:8080/"
    },
    "id": "umXrDrgL6A0x",
    "outputId": "4f4409ec-969b-4d63-93e7-b14d1e3f1904"
   },
   "outputs": [],
   "source": [
    "# Train a mdoel\n",
    "# %%time\n",
    "!python tools/train.py configs/rtmdet/custom_rtmdet_tiny_coco.py"
   ]
  },
  {
   "cell_type": "code",
   "execution_count": null,
   "metadata": {
    "id": "W-QrKh4UH2pb"
   },
   "outputs": [],
   "source": [
    "# Save the checkpoint file (.pth) into Google Drive\n",
    "%cd /content/mmdetection/work_dirs/\n",
    "\n",
    "!zip -r /content/drive/MyDrive/AIB_tp2/model/rtmdet.zip /content/mmdetection/work_dirs"
   ]
  }
 ],
 "metadata": {
  "accelerator": "GPU",
  "colab": {
   "authorship_tag": "ABX9TyPRthibTeLbion0NbAeEyiU",
   "gpuType": "V100",
   "include_colab_link": true,
   "provenance": [],
   "toc_visible": true
  },
  "kernelspec": {
   "display_name": "Python 3",
   "name": "python3"
  },
  "language_info": {
   "name": "python"
  }
 },
 "nbformat": 4,
 "nbformat_minor": 0
}
